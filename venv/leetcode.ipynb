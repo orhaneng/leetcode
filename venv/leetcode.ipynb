{
 "cells": [
  {
   "cell_type": "code",
   "execution_count": 10,
   "metadata": {
    "collapsed": true
   },
   "outputs": [],
   "source": [
    "from ExcelOperations import *\n",
    "import pandas as pd\n",
    "\n",
    "excelfilecompany= \"/Users/omerorhan/Desktop/UCSC/resume/leetcode/leetcode/venv/leetcodeCompany.xlsx\"\n",
    "excelfiletopic= \"/Users/omerorhan/Desktop/UCSC/resume/leetcode/leetcode/venv/leetcodeByTopics.xlsx\"\n",
    "excelfilemain= \"/Users/omerorhan/Desktop/UCSC/resume/leetcode/leetcode/venv/LeetCodemixed.xlsx\"\n",
    "\n",
    "#main file\n",
    "def getmainFile():\n",
    "    sheetnames = getSheetNames(excelfilemain)\n",
    "    for sheet in sheetnames:\n",
    "        #print(sheet)\n",
    "        pass\n",
    "\n",
    "    datamain = readExcelRange(excelfilemain,\"all questions by frequency\",2,1015,1,6)\n",
    "\n",
    "    datamain = pd.DataFrame({'LeetcodeId':datamain[:,1],\n",
    "                            'Title':datamain[:,2],'Acceptance':datamain[:,3],'Difficulty':datamain[:,4],'Frequency':datamain[:,5]})\n",
    "    return datamain\n",
    "datamain =getmainFile()\n",
    "\n",
    "#############\n",
    "\n",
    "def getTopicFile(datamain):\n",
    "    sheetnames = getSheetNames(excelfiletopic)\n",
    "    dftopics = pd.DataFrame(columns=list(['LeetcodeId', 'Topic']))\n",
    "    for sheet in sheetnames:\n",
    "        datatopic = readExcelRange(excelfiletopic,sheet,2,200,1,1)\n",
    "        datatopic =  pd.DataFrame({'LeetcodeId':datatopic[:,0]})\n",
    "        for topicid in datatopic[\"LeetcodeId\"]:\n",
    "            dftopics = dftopics.append({'LeetcodeId': topicid, \"Topic\":sheet}, ignore_index=True)\n",
    "    dict = {};\n",
    "    for item in dftopics.iterrows():\n",
    "        if item[1][0] in dict:\n",
    "            text = dict.get(item[1][0])\n",
    "            text = text + \"|\" + item[1][1]\n",
    "            dict.update({item[1][0]: text})\n",
    "        else:\n",
    "            dict.update({item[1][0]: item[1][1]})\n",
    "    for item in datamain[\"LeetcodeId\"]:\n",
    "        if item in dict:\n",
    "            datamain.loc[datamain[\"LeetcodeId\"]==item,\"Topic\"] = dict.get(item)\n",
    "    datamain.to_csv(\"/Users/omerorhan/Desktop/UCSC/resume/leetcode/leetcode/venv/leetcoderesult.csv\",index=False)\n",
    "    return datamain\n",
    "\n",
    "def getCompanyFile():\n",
    "    datamain = pd.read_csv(\"/Users/omerorhan/Desktop/UCSC/resume/leetcode/leetcode/venv/leetcoderesult.csv\", engine='python',\n",
    "                        index_col=False)\n",
    "    sheetnames = getSheetNames(excelfilecompany)\n",
    "    dfCompany = pd.DataFrame(columns=list(['LeetcodeId', 'Company']))\n",
    "    for sheet in sheetnames:\n",
    "        datacompany = readExcelRange(excelfilecompany,sheet,2,1000,1,1)\n",
    "        datatopic =  pd.DataFrame({'LeetcodeId':datacompany[:,0]})\n",
    "        for topicid in datatopic[\"LeetcodeId\"]:\n",
    "            dfCompany = dfCompany.append({'LeetcodeId': topicid, \"Company\":sheet}, ignore_index=True)\n",
    "    dict = {};\n",
    "\n",
    "    for item in dfCompany.iterrows():\n",
    "        if item[1][0] in dict:\n",
    "            text = dict.get(item[1][0])\n",
    "            text = text + \"|\" + item[1][1]\n",
    "            dict.update({item[1][0]: text})\n",
    "        else:\n",
    "            dict.update({item[1][0]: item[1][1]})\n",
    "    print(dict)\n",
    "    for item in datamain[\"LeetcodeId\"]:\n",
    "        if int(item) in dict:\n",
    "            datamain.loc[datamain[\"LeetcodeId\"]==item,\"Company\"] = dict.get(item)\n",
    "    print(datamain)\n",
    "    datamain.to_csv(\"/Users/omerorhan/Desktop/UCSC/resume/leetcode/leetcode/venv/leetcoderesult.csv\",index=False)\n",
    "    return datamain\n",
    "#getCompanyFile()\n",
    "#dftopics = getTopicFile(datamain)\n",
    "#dataset = pd.read_csv(\"/Users/omerorhan/Desktop/UCSC/resume/leetcode/leetcode/venv/leetcoderesult.csv\", engine='python',\n",
    "#                     index_col=False)\n",
    "#print(dataset)\n",
    "#dict = {};\n",
    "#for item in dataset.iterrows():\n",
    "#    if item[1][0] in dict:\n",
    "#        text = dict.get(item[1][0])\n",
    "#        text = text+\"|\"+item[1][1]\n",
    "#        dict.update({item[1][0]:text})\n",
    "#    else:\n",
    "#        dict.update({item[1][0]:item[1][1]})\n",
    "#print(dict)\n",
    "#    #print(str(item[1][0])+\"-\"+item[1][1])"
   ]
  },
  {
   "cell_type": "code",
   "execution_count": 8,
   "metadata": {},
   "outputs": [],
   "source": [
    "import sys\n",
    "sys.path.append(\"/Users/omerorhan/Desktop/UCSC/resume/leetcode/leetcode/venv/\") "
   ]
  },
  {
   "cell_type": "code",
   "execution_count": null,
   "metadata": {},
   "outputs": [],
   "source": [
    "datamain = pd.read_csv(\"/Users/omerorhan/Desktop/UCSC/resume/leetcode/leetcode/venv/leetcoderesult.csv\", engine='python',\n",
    "                    index_col=False)\n",
    "sheetnames = getSheetNames(excelfilecompany)\n",
    "dfCompany = pd.DataFrame(columns=list(['LeetcodeId', 'Company']))\n",
    "for sheet in sheetnames:\n",
    "    datacompany = readExcelRange(excelfilecompany,sheet,2,1000,1,1)\n",
    "    datatopic =  pd.DataFrame({'LeetcodeId':datacompany[:,0]})\n",
    "    for topicid in datatopic[\"LeetcodeId\"]:\n",
    "        dfCompany = dfCompany.append({'LeetcodeId': topicid, \"Company\":sheet}, ignore_index=True)\n",
    "dict = {};\n",
    "\n",
    "for item in dfCompany.iterrows():\n",
    "    if item[1][0] in dict:\n",
    "        text = dict.get(item[1][0])\n",
    "        text = text + \"|\" + item[1][1]\n",
    "        dict.update({item[1][0]: text})\n",
    "    else:\n",
    "        dict.update({item[1][0]: item[1][1]})\n",
    "print(dict)\n"
   ]
  },
  {
   "cell_type": "code",
   "execution_count": 11,
   "metadata": {},
   "outputs": [
    {
     "ename": "TypeError",
     "evalue": "argument of type 'type' is not iterable",
     "traceback": [
      "\u001b[0;31m---------------------------------------------------------------------------\u001b[0m",
      "\u001b[0;31mTypeError\u001b[0m                                 Traceback (most recent call last)",
      "\u001b[0;32m<ipython-input-11-bd9e480cbd37>\u001b[0m in \u001b[0;36m<module>\u001b[0;34m\u001b[0m\n\u001b[1;32m      1\u001b[0m \u001b[0;32mfor\u001b[0m \u001b[0mitem\u001b[0m \u001b[0;32min\u001b[0m \u001b[0mdatamain\u001b[0m\u001b[0;34m[\u001b[0m\u001b[0;34m\"LeetcodeId\"\u001b[0m\u001b[0;34m]\u001b[0m\u001b[0;34m:\u001b[0m\u001b[0;34m\u001b[0m\u001b[0m\n\u001b[0;32m----> 2\u001b[0;31m     \u001b[0;32mif\u001b[0m \u001b[0mint\u001b[0m\u001b[0;34m(\u001b[0m\u001b[0mitem\u001b[0m\u001b[0;34m)\u001b[0m \u001b[0;32min\u001b[0m \u001b[0mdict\u001b[0m\u001b[0;34m:\u001b[0m\u001b[0;34m\u001b[0m\u001b[0m\n\u001b[0m\u001b[1;32m      3\u001b[0m         \u001b[0mdatamain\u001b[0m\u001b[0;34m.\u001b[0m\u001b[0mloc\u001b[0m\u001b[0;34m[\u001b[0m\u001b[0mdatamain\u001b[0m\u001b[0;34m[\u001b[0m\u001b[0;34m\"LeetcodeId\"\u001b[0m\u001b[0;34m]\u001b[0m\u001b[0;34m==\u001b[0m\u001b[0mitem\u001b[0m\u001b[0;34m,\u001b[0m\u001b[0;34m\"Company\"\u001b[0m\u001b[0;34m]\u001b[0m \u001b[0;34m=\u001b[0m \u001b[0mdict\u001b[0m\u001b[0;34m.\u001b[0m\u001b[0mget\u001b[0m\u001b[0;34m(\u001b[0m\u001b[0mitem\u001b[0m\u001b[0;34m)\u001b[0m\u001b[0;34m\u001b[0m\u001b[0m\n\u001b[1;32m      4\u001b[0m \u001b[0mprint\u001b[0m\u001b[0;34m(\u001b[0m\u001b[0mdatamain\u001b[0m\u001b[0;34m)\u001b[0m\u001b[0;34m\u001b[0m\u001b[0m\n\u001b[1;32m      5\u001b[0m \u001b[0mdatamain\u001b[0m\u001b[0;34m.\u001b[0m\u001b[0mto_csv\u001b[0m\u001b[0;34m(\u001b[0m\u001b[0;34m\"/Users/omerorhan/Desktop/UCSC/resume/leetcode/leetcode/venv/leetcoderesult.csv\"\u001b[0m\u001b[0;34m,\u001b[0m\u001b[0mindex\u001b[0m\u001b[0;34m=\u001b[0m\u001b[0;32mFalse\u001b[0m\u001b[0;34m)\u001b[0m\u001b[0;34m\u001b[0m\u001b[0m\n",
      "\u001b[0;31mTypeError\u001b[0m: argument of type 'type' is not iterable"
     ],
     "output_type": "error"
    }
   ],
   "source": [
    "for item in datamain[\"LeetcodeId\"]:\n",
    "    if int(item) in dict:\n",
    "        datamain.loc[datamain[\"LeetcodeId\"]==item,\"Company\"] = dict.get(item)\n",
    "print(datamain)\n",
    "datamain.to_csv(\"/Users/omerorhan/Desktop/UCSC/resume/leetcode/leetcode/venv/leetcoderesult.csv\",index=False)\n"
   ]
  }
 ],
 "metadata": {
  "kernelspec": {
   "display_name": "Python 2",
   "language": "python",
   "name": "python2"
  },
  "language_info": {
   "codemirror_mode": {
    "name": "ipython",
    "version": 2
   },
   "file_extension": ".py",
   "mimetype": "text/x-python",
   "name": "python",
   "nbconvert_exporter": "python",
   "pygments_lexer": "ipython2",
   "version": "2.7.6"
  }
 },
 "nbformat": 4,
 "nbformat_minor": 0
}
