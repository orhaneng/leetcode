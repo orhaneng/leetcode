{
 "cells": [
  {
   "cell_type": "code",
   "execution_count": 2,
   "metadata": {
    "collapsed": true
   },
   "outputs": [],
   "source": [
    "from ExcelOperations import *\n",
    "import pandas as pd\n",
    "\n",
    "excelfilecompany= \"/Users/omerorhan/Desktop/UCSC/resume/leetcode/leetcode/venv/leetcodeCompany.xlsx\"\n",
    "excelfiletopic= \"/Users/omerorhan/Desktop/UCSC/resume/leetcode/leetcode/venv/leetcodeByTopics.xlsx\"\n",
    "excelfilemain= \"/Users/omerorhan/Desktop/UCSC/resume/leetcode/leetcode/venv/LeetCodemixed.xlsx\"\n",
    "\n",
    "#main file\n",
    "def getmainFile():\n",
    "    sheetnames = getSheetNames(excelfilemain)\n",
    "    for sheet in sheetnames:\n",
    "        #print(sheet)\n",
    "        pass\n",
    "\n",
    "    datamain = readExcelRange(excelfilemain,\"all questions by frequency\",2,1015,1,6)\n",
    "\n",
    "    datamain = pd.DataFrame({'LeetcodeId':datamain[:,1],\n",
    "                            'Title':datamain[:,2],'Acceptance':datamain[:,3],'Difficulty':datamain[:,4],'Frequency':datamain[:,5]})\n",
    "    return datamain\n",
    "datamain =getmainFile()\n",
    "\n",
    "#############\n",
    "\n",
    "def getTopicFile(datamain):\n",
    "    sheetnames = getSheetNames(excelfiletopic)\n",
    "    dftopics = pd.DataFrame(columns=list(['LeetcodeId', 'Topic']))\n",
    "    for sheet in sheetnames:\n",
    "        datatopic = readExcelRange(excelfiletopic,sheet,2,200,1,1)\n",
    "        datatopic =  pd.DataFrame({'LeetcodeId':datatopic[:,0]})\n",
    "        for topicid in datatopic[\"LeetcodeId\"]:\n",
    "            dftopics = dftopics.append({'LeetcodeId': topicid, \"Topic\":sheet}, ignore_index=True)\n",
    "    dict = {};\n",
    "    for item in dftopics.iterrows():\n",
    "        if item[1][0] in dict:\n",
    "            text = dict.get(item[1][0])\n",
    "            text = text + \"|\" + item[1][1]\n",
    "            dict.update({item[1][0]: text})\n",
    "        else:\n",
    "            dict.update({item[1][0]: item[1][1]})\n",
    "    for item in datamain[\"LeetcodeId\"]:\n",
    "        if item in dict:\n",
    "            datamain.loc[datamain[\"LeetcodeId\"]==item,\"Topic\"] = dict.get(item)\n",
    "    datamain.to_csv(\"/Users/omerorhan/Desktop/UCSC/resume/leetcode/leetcode/venv/leetcoderesult.csv\",index=False)\n",
    "    return datamain\n",
    "\n",
    "def getCompanyFile():\n",
    "    datamain = pd.read_csv(\"/Users/omerorhan/Desktop/UCSC/resume/leetcode/leetcode/venv/leetcoderesult.csv\", engine='python',\n",
    "                        index_col=False)\n",
    "    sheetnames = getSheetNames(excelfilecompany)\n",
    "    dfCompany = pd.DataFrame(columns=list(['LeetcodeId', 'Company']))\n",
    "    for sheet in sheetnames:\n",
    "        datacompany = readExcelRange(excelfilecompany,sheet,2,1000,1,1)\n",
    "        datatopic =  pd.DataFrame({'LeetcodeId':datacompany[:,0]})\n",
    "        for topicid in datatopic[\"LeetcodeId\"]:\n",
    "            dfCompany = dfCompany.append({'LeetcodeId': topicid, \"Company\":sheet}, ignore_index=True)\n",
    "    dict = {};\n",
    "\n",
    "    for item in dfCompany.iterrows():\n",
    "        if item[1][0] in dict:\n",
    "            text = dict.get(item[1][0])\n",
    "            text = text + \"|\" + item[1][1]\n",
    "            dict.update({item[1][0]: text})\n",
    "        else:\n",
    "            dict.update({item[1][0]: item[1][1]})\n",
    "    print(dict)\n",
    "    for item in datamain[\"LeetcodeId\"]:\n",
    "        if int(item) in dict:\n",
    "            datamain.loc[datamain[\"LeetcodeId\"]==item,\"Company\"] = dict.get(item)\n",
    "    print(datamain)\n",
    "    datamain.to_csv(\"/Users/omerorhan/Desktop/UCSC/resume/leetcode/leetcode/venv/leetcoderesult.csv\",index=False)\n",
    "    return datamain\n",
    "#getCompanyFile()\n",
    "#dftopics = getTopicFile(datamain)\n",
    "#dataset = pd.read_csv(\"/Users/omerorhan/Desktop/UCSC/resume/leetcode/leetcode/venv/leetcoderesult.csv\", engine='python',\n",
    "#                     index_col=False)\n",
    "#print(dataset)\n",
    "#dict = {};\n",
    "#for item in dataset.iterrows():\n",
    "#    if item[1][0] in dict:\n",
    "#        text = dict.get(item[1][0])\n",
    "#        text = text+\"|\"+item[1][1]\n",
    "#        dict.update({item[1][0]:text})\n",
    "#    else:\n",
    "#        dict.update({item[1][0]:item[1][1]})\n",
    "#print(dict)\n",
    "#    #print(str(item[1][0])+\"-\"+item[1][1])"
   ]
  },
  {
   "cell_type": "code",
   "execution_count": 1,
   "metadata": {},
   "outputs": [],
   "source": [
    "import sys\n",
    "sys.path.append(\"/Users/omerorhan/Desktop/UCSC/resume/leetcode/leetcode/venv/\") "
   ]
  },
  {
   "cell_type": "code",
   "execution_count": 11,
   "metadata": {},
   "outputs": [],
   "source": [
    "'''\n",
    "datamain = pd.read_csv(\"/Users/omerorhan/Desktop/UCSC/resume/leetcode/leetcode/venv/leetcoderesult.csv\", engine='python',\n",
    "                    index_col=False)\n",
    "sheetnames = getSheetNames(excelfilecompany)\n",
    "dfCompany = pd.DataFrame(columns=list(['LeetcodeId', 'Company']))\n",
    "for sheet in sheetnames:\n",
    "    datacompany = readExcelRange(excelfilecompany,sheet,2,1000,1,1)\n",
    "    datatopic =  pd.DataFrame({'LeetcodeId':datacompany[:,0]})\n",
    "    for topicid in datatopic[\"LeetcodeId\"]:\n",
    "        dfCompany = dfCompany.append({'LeetcodeId': topicid, \"Company\":sheet}, ignore_index=True)\n",
    "dict = {};\n",
    "\n",
    "for item in dfCompany.iterrows():\n",
    "    if item[1][0] in dict:\n",
    "        text = dict.get(item[1][0])\n",
    "        text = text + \"|\" + item[1][1]\n",
    "        dict.update({item[1][0]: text})\n",
    "    else:\n",
    "        dict.update({item[1][0]: item[1][1]})\n",
    "for item in datamain[\"LeetcodeId\"]:\n",
    "    for k, v in dict.items():\n",
    "        if item == str(k):\n",
    "            value = dict.get(k)\n",
    "            datamain.loc[datamain[\"LeetcodeId\"]==item,\"Company\"] = value\n",
    "        #datamain.loc[datamain[\"LeetcodeId\"]==item,\"Company\"] = dict.get(item)\n",
    "        \n",
    "#print(datamain)\n",
    "#datamain.to_csv(\"/Users/omerorhan/Desktop/UCSC/resume/leetcode/leetcode/venv/leetcoderesult.csv\",index=False)\n",
    "'''"
   ]
  },
  {
   "cell_type": "code",
   "execution_count": 1,
   "metadata": {},
   "outputs": [
    {
     "name": "stdout",
     "output_type": "stream",
     "text": [
      "                   Topic  count\n0                  Array     77\n23                String     52\n25                  Tree     48\n9    Dynamic Programming     40\n12             HashTable     38\n15                  Math     37\n6            Depth First     35\n27          Two Pointers     30\n14           Linked List     26\n3          Binary Search     24\n22                 Stack     24\n29  breadth-first-search     23\n7                 Design     21\n1           Backtracking     21\n13                  Heap     15\n11               Greedy      13\n21                  Sort     11\n30                   nan      9\n5       Bit Manipulation      9\n8     Divide and Conquer      8\n10                 Graph      7\n17                 Queue      5\n20        Sliding Window      5\n24      Topological Sort      4\n26                  Trie      4\n28            Union Find      4\n19          Segment Tree      1\n16           Memoization      1\n4     Binary Search Tree      1\n2    Binary Indexed Tree      1\n18             Recursion      1\n"
     ]
    }
   ],
   "source": [
    "import pandas as pd\n",
    "dataset = pd.read_csv(\"/Users/omerorhan/Desktop/UCSC/resume/leetcode/leetcode/venv/leetcoderesult.csv\", engine='python',\n",
    "                    index_col=False)\n",
    "\n",
    "google = dataset[dataset['Company'].str.lower().str.contains(\"microsoft\", na=False)]\n",
    "\n",
    "\n",
    "dftopics = pd.DataFrame(columns=list(['Topic']))\n",
    "\n",
    "for item in google[\"Topic\"]:\n",
    "    for top in str(item).split(\"|\"):\n",
    "        dftopics = dftopics.append({\"Topic\":top}, ignore_index=True)\n",
    "\n",
    "group = dftopics.groupby(\"Topic\")[\"Topic\"].count().reset_index(name=\"count\")\n",
    "group = group.sort_values('count', ascending=False)\n",
    "\n",
    "print(group)\n",
    "\n",
    "\n",
    "\n"
   ]
  },
  {
   "cell_type": "code",
   "execution_count": 4,
   "metadata": {
    "collapsed": false
   },
   "outputs": [
    {
     "name": "stdout",
     "output_type": "stream",
     "text": [
      "  Difficulty  count\n2     Medium    112\n0       Easy     72\n1       Hard     41\n"
     ]
    }
   ],
   "source": [
    "import pandas as pd\n",
    "dataset = pd.read_csv(\"/Users/omerorhan/Desktop/UCSC/resume/leetcode/leetcode/venv/leetcoderesult.csv\", engine='python',\n",
    "                    index_col=False)\n",
    "\n",
    "google = dataset[dataset['Company'].str.lower().str.contains(\"apple\", na=False)]\n",
    "\n",
    "dftopics = pd.DataFrame(columns=list(['Difficulty']))\n",
    "\n",
    "for item in google[\"Difficulty\"]:\n",
    "    for top in str(item).split(\"|\"):\n",
    "        dftopics = dftopics.append({\"Difficulty\":top}, ignore_index=True)\n",
    "\n",
    "group = dftopics.groupby(\"Difficulty\")[\"Difficulty\"].count().reset_index(name=\"count\")\n",
    "group = group.sort_values('count', ascending=False)\n",
    "\n",
    "print(group)"
   ]
  },
  {
   "cell_type": "markdown",
   "metadata": {},
   "source": [
    "### GETTING QUESTIONS BY COMPANY"
   ]
  },
  {
   "cell_type": "code",
   "execution_count": 5,
   "metadata": {},
   "outputs": [
    {
     "data": {
      "text/plain": [
       "'\\ndftopics = pd.DataFrame(columns=list([\\'Topic\\']))\\n\\nfor item in google[\"Topic\"]:\\n    for top in str(item).split(\"|\"):\\n        dftopics = dftopics.append({\"Topic\":top}, ignore_index=True)\\n\\ngroup = dftopics.groupby(\"Topic\")[\"Topic\"].count().reset_index(name=\"count\")\\ngroup = group.sort_values(\\'count\\', ascending=False)\\n\\nprint(group)\\n'"
      ]
     },
     "execution_count": 5,
     "metadata": {},
     "output_type": "execute_result"
    }
   ],
   "source": [
    "\n",
    "import pandas as pd\n",
    "dataset = pd.read_csv(\"/Users/omerorhan/Desktop/UCSC/resume/leetcode/leetcode/venv/leetcoderesult.csv\", engine='python',\n",
    "                    index_col=False)\n",
    "\n",
    "google = dataset[dataset['Company'].str.lower().str.contains(\"microsoft\", na=False)]\n",
    "\n",
    "google= (google.sort_values(by='Frequency', ascending=False))\n",
    "google.to_csv(\"/Users/omerorhan/Desktop/UCSC/resume/leetcode/microsoft_questions.csv\",index=False)\n",
    "\n",
    "'''\n",
    "dftopics = pd.DataFrame(columns=list(['Topic']))\n",
    "\n",
    "for item in google[\"Topic\"]:\n",
    "    for top in str(item).split(\"|\"):\n",
    "        dftopics = dftopics.append({\"Topic\":top}, ignore_index=True)\n",
    "\n",
    "group = dftopics.groupby(\"Topic\")[\"Topic\"].count().reset_index(name=\"count\")\n",
    "group = group.sort_values('count', ascending=False)\n",
    "\n",
    "print(group)\n",
    "'''\n",
    "\n",
    "\n"
   ]
  }
 ],
 "metadata": {
  "kernelspec": {
   "display_name": "Python 2",
   "language": "python",
   "name": "python2"
  },
  "language_info": {
   "codemirror_mode": {
    "name": "ipython",
    "version": 2
   },
   "file_extension": ".py",
   "mimetype": "text/x-python",
   "name": "python",
   "nbconvert_exporter": "python",
   "pygments_lexer": "ipython2",
   "version": "2.7.6"
  }
 },
 "nbformat": 4,
 "nbformat_minor": 0
}
